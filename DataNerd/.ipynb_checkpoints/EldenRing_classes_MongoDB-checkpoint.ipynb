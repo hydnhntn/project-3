{
 "cells": [
  {
   "cell_type": "code",
   "execution_count": 57,
   "id": "8d09c0be",
   "metadata": {},
   "outputs": [],
   "source": [
    "# Dependencies\n",
    "from bs4 import BeautifulSoup\n",
    "import requests\n",
    "import pandas as pd\n",
    "import pymongo"
   ]
  },
  {
   "cell_type": "code",
   "execution_count": 58,
   "id": "2f540069",
   "metadata": {},
   "outputs": [],
   "source": [
    "# initalize PyMongo to work with Mongo DBs\n",
    "conn = 'mongodb://localhost:27017'\n",
    "client = pymongo.MongoClient(conn)"
   ]
  },
  {
   "cell_type": "code",
   "execution_count": 59,
   "id": "7f8ed12d",
   "metadata": {},
   "outputs": [],
   "source": [
    "# define database and collection\n",
    "db = client.eldenring\n",
    "collection = db.classes"
   ]
  },
  {
   "cell_type": "code",
   "execution_count": 60,
   "id": "0cd1820b",
   "metadata": {},
   "outputs": [],
   "source": [
    "# URL of page to be scraped\n",
    "url = 'https://www.pcgamer.com/all-elden-ring-classes-origins/'\n",
    "\n",
    "# retrieve page with the reqests module\n",
    "response = requests.get(url)\n",
    "# Create BeautifulSoup object; parse with 'html.parser'\n",
    "soup = BeautifulSoup(response.text, 'html5lib')"
   ]
  },
  {
   "cell_type": "code",
   "execution_count": 61,
   "id": "a44414fd",
   "metadata": {},
   "outputs": [
    {
     "name": "stdout",
     "output_type": "stream",
     "text": [
      "['Class', 'LVL', 'VIG', 'MND', 'END', 'STR', 'DEX', 'INT', 'FTH', 'ARC']\n"
     ]
    }
   ],
   "source": [
    "class_table = soup.find('table')\n",
    "ths = class_table.find_all('th')\n",
    "keys = []\n",
    "for th in ths:\n",
    "    keys.append(th.text.strip())\n",
    "print(keys)"
   ]
  },
  {
   "cell_type": "code",
   "execution_count": 62,
   "id": "e585fc5a",
   "metadata": {
    "scrolled": true
   },
   "outputs": [],
   "source": [
    "# URL of page to be scraped\n",
    "url = 'https://www.pcgamer.com/all-elden-ring-classes-origins/'\n",
    "\n",
    "# retrieve page with the reqests module\n",
    "response = requests.get(url)\n",
    "# Create BeautifulSoup object; parse with 'html5lib'\n",
    "soup = BeautifulSoup(response.text, 'html5lib')\n",
    "tbody = soup.find('tbody')\n",
    "trs = tbody.find_all('tr')\n",
    "for tr in trs:\n",
    "    data = []\n",
    "    post={}\n",
    "    tds = tr.find_all('td')\n",
    "    for td in tds:\n",
    "            data.append(td.text)\n",
    "    for key in keys:\n",
    "        for value in data:\n",
    "            post[key] = value.strip()\n",
    "            data.remove(value)\n",
    "            break\n",
    "    collection.insert_one(post)"
   ]
  },
  {
   "cell_type": "code",
   "execution_count": null,
   "id": "ea349d7f",
   "metadata": {},
   "outputs": [],
   "source": []
  }
 ],
 "metadata": {
  "kernelspec": {
   "display_name": "Python 3 (ipykernel)",
   "language": "python",
   "name": "python3"
  },
  "language_info": {
   "codemirror_mode": {
    "name": "ipython",
    "version": 3
   },
   "file_extension": ".py",
   "mimetype": "text/x-python",
   "name": "python",
   "nbconvert_exporter": "python",
   "pygments_lexer": "ipython3",
   "version": "3.9.7"
  }
 },
 "nbformat": 4,
 "nbformat_minor": 5
}
